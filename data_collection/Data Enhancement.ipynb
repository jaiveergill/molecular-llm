{
  "cells": [
    {
      "cell_type": "code",
      "execution_count": null,
      "metadata": {
        "colab": {
          "base_uri": "https://localhost:8080/"
        },
        "id": "IoHNw36K9M8x",
        "outputId": "e26059d6-7cbc-4ec0-c11f-628503665de3"
      },
      "outputs": [
        {
          "name": "stdout",
          "output_type": "stream",
          "text": [
            "Mounted at /content/drive\n"
          ]
        }
      ],
      "source": [
        "from google.colab import drive\n",
        "drive.mount('/content/drive')\n",
        "import pandas as pd\n",
        "import numpy as np"
      ]
    },
    {
      "cell_type": "code",
      "execution_count": null,
      "metadata": {
        "id": "RGx9pr0H9TcR"
      },
      "outputs": [],
      "source": [
        "df = pd.read_pickle('drive/MyDrive/description_df.pkl')"
      ]
    },
    {
      "cell_type": "code",
      "execution_count": null,
      "metadata": {
        "id": "MJg3yTAL98f2"
      },
      "outputs": [],
      "source": [
        "sl = df['description'][:1000]"
      ]
    },
    {
      "cell_type": "code",
      "execution_count": null,
      "metadata": {
        "colab": {
          "base_uri": "https://localhost:8080/"
        },
        "id": "QGOU1apw-UyB",
        "outputId": "6489dcf5-1ed3-4415-8397-437dccfd507c"
      },
      "outputs": [
        {
          "data": {
            "text/plain": [
              "0      An acetic acid ester of CARNITINE that facilit...\n",
              "1      2,3-dihydroxy-2,3-dihydrobenzoic acid is a cyc...\n",
              "2      Monoisopropanolamine appears as a colorless li...\n",
              "3      3-Amino-2-oxopropyl phosphate is a metabolite ...\n",
              "4      Dinitrochlorobenzene is an aromatic hydrocarbo...\n",
              "                             ...                        \n",
              "995    5-Hydroxyindole-3-acetic acid is a natural pro...\n",
              "996    5-iodo-2-(oxaloamino)benzoic acid is an organo...\n",
              "997    2-(4-amino-5-iodo-7-pyrrolo2,3-dpyrimidinyl)-5...\n",
              "998    N,N-Dimethyl-5-methoxytryptamine is a natural ...\n",
              "999    Serotonin derivative proposed as potentiator f...\n",
              "Name: description, Length: 1000, dtype: object"
            ]
          },
          "execution_count": 10,
          "metadata": {},
          "output_type": "execute_result"
        }
      ],
      "source": [
        "sl"
      ]
    },
    {
      "cell_type": "code",
      "execution_count": null,
      "metadata": {
        "colab": {
          "base_uri": "https://localhost:8080/"
        },
        "id": "qpxOv590-l78",
        "outputId": "706ffc9e-ecea-4aa8-a7a1-9353512b5569"
      },
      "outputs": [
        {
          "data": {
            "text/plain": [
              "Index(['cid', 'cmpdname', 'cmpdsynonym', 'mw', 'mf', 'polararea', 'complexity',\n",
              "       'xlogp', 'heavycnt', 'hbonddonor', 'hbondacc', 'rotbonds', 'inchi',\n",
              "       'isosmiles', 'canonicalsmiles', 'inchikey', 'iupacname', 'exactmass',\n",
              "       'monoisotopicmass', 'charge', 'covalentunitcnt', 'isotopeatomcnt',\n",
              "       'totalatomstereocnt', 'definedatomstereocnt', 'undefinedatomstereocnt',\n",
              "       'totalbondstereocnt', 'definedbondstereocnt', 'undefinedbondstereocnt',\n",
              "       'pclidcnt', 'gpidcnt', 'gpfamilycnt', 'neighbortype', 'meshheadings',\n",
              "       'annothits', 'annothitcnt', 'aids', 'cidcdate', 'sidsrcname', 'depcatg',\n",
              "       'annotation', 'description', 'numSentences'],\n",
              "      dtype='object')"
            ]
          },
          "execution_count": 17,
          "metadata": {},
          "output_type": "execute_result"
        }
      ],
      "source": [
        "df.columns"
      ]
    },
    {
      "cell_type": "code",
      "execution_count": null,
      "metadata": {
        "colab": {
          "base_uri": "https://localhost:8080/"
        },
        "id": "ZDRnCtSJ-VjV",
        "outputId": "c9714d8b-f9ab-42eb-b075-6ccd8069a2ac"
      },
      "outputs": [
        {
          "data": {
            "text/plain": [
              "array([[1, 'Acetylcarnitine',\n",
              "        'Acetyl-DL-carnitine|acetylcarnitine|DL-O-Acetylcarnitine|DL-Acetylcarnitine|14992-62-2|3-acetyloxy-4-(trimethylazaniumyl)butanoate|Acetyl carnitine|3-(acetyloxy)-4-(trimethylazaniumyl)butanoate|UNII-07OP6H4V4A|07OP6H4V4A|1-Propanaminium, 2-(acetyloxy)-3-carboxy-N,N,N-trimethyl-, inner salt|Ammonium, (3-carboxy-2-hydroxypropyl)trimethyl-, hydroxide, inner salt, acetate, DL-|870-77-9|1-Propanaminium, 2-(acetoxy)-3-carboxy-N,N,N-trimethyl-, hydroxide, inner salt, (+-)-|(+/-)-acetylcarnitine|bmse000142|ACETYLCARNITINE, DL-|SCHEMBL69781|O-ACETYL-DL-CARNITINE|ACETYLCARNITINE DL-FORM|D/L -ACETYL-CARNITINE|DTXSID2048117|CHEBI:73024|ACETYLCARNITINE, (+/-)-|ACETYLCARNITINE RACEMATE [MI]|LMFA07070060|AS-82719|LS-17075|HY-126358|LS-173362|3-(acetyloxy)-4-(trimethylammonio)butanoate|CS-0102945|FT-0778235|Q27140241|2-(ACETYLOXY)-3-CARBOXY-N,N,N-TRIMETHYL-1-PROPANAMINIUM INNER SALT|(3-CARBOXY-2-HYDROXYPROPYL)TRIMETHYLAMMONIUM HYDROXIDE INNER SALT ACETATE|1-Propanaminium, 2-(acetoxy)-3-carboxy-N,N,N-trimethyl-, hydroxide, inner salt, (+)-|AMMONIUM, (3-CARBOXY-2-HYDROXYPROPYL)TRIMETHYL-, HYDROXIDE, INNER SALT, ACETATE|1-Propanaminium, 2-(acetoxy)-3-carboxy-N,N,N-trimethyl-, hydroxide, inner salt, (+-)- (9CI)',\n",
              "        203.24, 'C9H17NO4', 66.4, 214.0, 0.4, 14, 0, 4, 5,\n",
              "        'InChI=1S/C9H17NO4/c1-7(11)14-8(5-9(12)13)6-10(2,3)4/h8H,5-6H2,1-4H3',\n",
              "        'CC(=O)OC(CC(=O)[O-])C[N+](C)(C)C',\n",
              "        'CC(=O)OC(CC(=O)[O-])C[N+](C)(C)C',\n",
              "        'RDHQFKQIGNGIED-UHFFFAOYSA-N',\n",
              "        '3-acetyloxy-4-(trimethylazaniumyl)butanoate', 203.116, 203.116,\n",
              "        0, 1, 0, 1, 0, 1, 0, 0, 0, 2644, 3371, 1236, '2D+3D',\n",
              "        'Acetylcarnitine',\n",
              "        'Classification|Drug and Medication Information|Literature|Patents|Pharmacology and Biochemistry|Use and Manufacturing',\n",
              "        9, nan, 20050623,\n",
              "        '3WAY PHARM INC|A2B Chem|AA BLOCKS|AbaChemScene|ABI Chem|AHH Chemical co.,ltd|BenchChem|Biological Magnetic Resonance Data Bank (BMRB)|BOC Sciences|ChEBI|ChemIDplus|Chemieliva Pharmaceutical Co., Ltd|Clearsynth|Collaborative Drug Discovery, Inc.|DiscoveryGate|Egon Willighagen (Dept. of Bioinformatics - BiGCaT, Maastricht University)|EPA DSSTox|FDA Global Substance Registration System (GSRS)|Finetech Industry Limited|Google Patents|Human Metabolome Database (HMDB)|iChemical Technology USA Inc|Key Organics/BIONET|LeadScope|LIPID MAPS|MassBank of North America (MoNA)|MedChemexpress MCE|Metabolomics Workbench|MolPort|NextBio|NORMAN Suspect List Exchange|NovoSeek|Parchem|PATENTSCOPE (WIPO)|Probes & Drugs portal|RR Scientific|SCRIPDB|Smolecule|Springer Nature|SureChEMBL|THE BioTek|Thomson Pharma|ToxPlanet|Wikidata|WikiPathways',\n",
              "        'Chemical Vendors|Curation Efforts|Governmental Organizations|Journal Publishers|Legacy Depositors|NIH Initiatives|Research and Development|Subscription Services',\n",
              "        'D002491 - Central Nervous System Agents > D018697 - Nootropic Agents|D018977 - Micronutrients > D014815 - Vitamins|N - Nervous system > N06 - Psychoanaleptics > N06B - Psychostimulants, agents used for adhd and nootropics',\n",
              "        'An acetic acid ester of CARNITINE that facilitates movement of ACETYL COA into the matrices of mammalian MITOCHONDRIA during the oxidation of FATTY ACIDS., O-acetylcarnitine is an O-acylcarnitine having acetyl as the acyl substituent. It has a role as a human metabolite. It is functionally related to an acetic acid. It is a conjugate base of an O-acetylcarnitinium., L-Acetylcarnitine is a metabolite found in or produced by Saccharomyces cerevisiae., Acetylcarnitine is a natural product found in Pseudo-nitzschia multistriata, Euglena gracilis, and other organisms with data available.',\n",
              "        8]], dtype=object)"
            ]
          },
          "execution_count": 20,
          "metadata": {},
          "output_type": "execute_result"
        }
      ],
      "source": [
        "np.array(df.head(1))"
      ]
    },
    {
      "cell_type": "code",
      "execution_count": null,
      "metadata": {
        "colab": {
          "base_uri": "https://localhost:8080/",
          "height": 677
        },
        "id": "KlEGPhOcKx21",
        "outputId": "de023756-7aea-4276-e639-136fa1ee3d95"
      },
      "outputs": [
        {
          "name": "stdout",
          "output_type": "stream",
          "text": [
            "Collecting PyDictionary\n",
            "  Downloading PyDictionary-2.0.1-py3-none-any.whl (6.1 kB)\n",
            "Collecting bs4 (from PyDictionary)\n",
            "  Downloading bs4-0.0.1.tar.gz (1.1 kB)\n",
            "  Preparing metadata (setup.py) ... \u001b[?25l\u001b[?25hdone\n",
            "Requirement already satisfied: click in /usr/local/lib/python3.10/dist-packages (from PyDictionary) (8.1.6)\n",
            "Collecting goslate (from PyDictionary)\n",
            "  Downloading goslate-1.5.4.tar.gz (14 kB)\n",
            "  Preparing metadata (setup.py) ... \u001b[?25l\u001b[?25hdone\n",
            "Requirement already satisfied: requests in /usr/local/lib/python3.10/dist-packages (from PyDictionary) (2.27.1)\n",
            "Requirement already satisfied: beautifulsoup4 in /usr/local/lib/python3.10/dist-packages (from bs4->PyDictionary) (4.11.2)\n",
            "Collecting futures (from goslate->PyDictionary)\n",
            "  Downloading futures-3.0.5.tar.gz (25 kB)\n",
            "  Preparing metadata (setup.py) ... \u001b[?25l\u001b[?25hdone\n",
            "Requirement already satisfied: urllib3<1.27,>=1.21.1 in /usr/local/lib/python3.10/dist-packages (from requests->PyDictionary) (1.26.16)\n",
            "Requirement already satisfied: certifi>=2017.4.17 in /usr/local/lib/python3.10/dist-packages (from requests->PyDictionary) (2023.5.7)\n",
            "Requirement already satisfied: charset-normalizer~=2.0.0 in /usr/local/lib/python3.10/dist-packages (from requests->PyDictionary) (2.0.12)\n",
            "Requirement already satisfied: idna<4,>=2.5 in /usr/local/lib/python3.10/dist-packages (from requests->PyDictionary) (3.4)\n",
            "Requirement already satisfied: soupsieve>1.2 in /usr/local/lib/python3.10/dist-packages (from beautifulsoup4->bs4->PyDictionary) (2.4.1)\n",
            "Building wheels for collected packages: bs4, goslate, futures\n",
            "  Building wheel for bs4 (setup.py) ... \u001b[?25l\u001b[?25hdone\n",
            "  Created wheel for bs4: filename=bs4-0.0.1-py3-none-any.whl size=1257 sha256=55d97574e94559df9227cfdfcdbce0197f7a9f5d97d65b2a1e73fd58ea2a5766\n",
            "  Stored in directory: /root/.cache/pip/wheels/25/42/45/b773edc52acb16cd2db4cf1a0b47117e2f69bb4eb300ed0e70\n",
            "  Building wheel for goslate (setup.py) ... \u001b[?25l\u001b[?25hdone\n",
            "  Created wheel for goslate: filename=goslate-1.5.4-py3-none-any.whl size=11579 sha256=5b0b900730b7582937688eededaf9359d7a352e315b765b45d82b2a4fe1e73da\n",
            "  Stored in directory: /root/.cache/pip/wheels/b5/30/e9/63b6de83667be2977ee793a146a2c80f8e588d5c0203b39dc9\n",
            "  Building wheel for futures (setup.py) ... \u001b[?25l\u001b[?25hdone\n",
            "  Created wheel for futures: filename=futures-3.0.5-py3-none-any.whl size=14069 sha256=9502ca841df618c0ed691af04efc6c861873197ff6ec073aeaa056741b3eaebd\n",
            "  Stored in directory: /root/.cache/pip/wheels/ef/af/93/48739d464ba97d4cdc77c627d282f9794c8d276e42aaa92160\n",
            "Successfully built bs4 goslate futures\n",
            "Installing collected packages: futures, goslate, bs4, PyDictionary\n",
            "Successfully installed PyDictionary-2.0.1 bs4-0.0.1 futures-3.0.5 goslate-1.5.4\n"
          ]
        },
        {
          "data": {
            "application/vnd.colab-display-data+json": {
              "pip_warning": {
                "packages": [
                  "concurrent"
                ]
              }
            }
          },
          "metadata": {},
          "output_type": "display_data"
        }
      ],
      "source": [
        "!pip install PyDictionary"
      ]
    },
    {
      "cell_type": "code",
      "execution_count": null,
      "metadata": {
        "colab": {
          "base_uri": "https://localhost:8080/"
        },
        "id": "G71O8N0-LqqS",
        "outputId": "3c963f94-f052-41ec-a936-ea979bc43aaa"
      },
      "outputs": [
        {
          "name": "stdout",
          "output_type": "stream",
          "text": [
            "Collecting periodictable\n",
            "  Downloading periodictable-1.6.1-py2.py3-none-any.whl (752 kB)\n",
            "\u001b[?25l     \u001b[90m━━━━━━━━━━━━━━━━━━━━━━━━━━━━━━━━━━━━━━━━\u001b[0m \u001b[32m0.0/752.5 kB\u001b[0m \u001b[31m?\u001b[0m eta \u001b[36m-:--:--\u001b[0m\r\u001b[2K     \u001b[91m━━━━━━━\u001b[0m\u001b[90m╺\u001b[0m\u001b[90m━━━━━━━━━━━━━━━━━━━━━━━━━━━━━━━\u001b[0m \u001b[32m143.4/752.5 kB\u001b[0m \u001b[31m4.2 MB/s\u001b[0m eta \u001b[36m0:00:01\u001b[0m\r\u001b[2K     \u001b[90m━━━━━━━━━━━━━━━━━━━━━━━━━━━━━━━━━━━━━━\u001b[0m \u001b[32m752.5/752.5 kB\u001b[0m \u001b[31m11.9 MB/s\u001b[0m eta \u001b[36m0:00:00\u001b[0m\n",
            "\u001b[?25hRequirement already satisfied: pyparsing in /usr/local/lib/python3.10/dist-packages (from periodictable) (3.1.0)\n",
            "Requirement already satisfied: numpy in /usr/local/lib/python3.10/dist-packages (from periodictable) (1.22.4)\n",
            "Installing collected packages: periodictable\n",
            "Successfully installed periodictable-1.6.1\n"
          ]
        }
      ],
      "source": [
        "!pip install periodictable"
      ]
    },
    {
      "cell_type": "code",
      "execution_count": null,
      "metadata": {
        "id": "6WJmGVEqObeH"
      },
      "outputs": [],
      "source": [
        "import pandas as pd\n",
        "import random\n",
        "from periodictable import elements\n",
        "import chemparse\n",
        "\n",
        "# Assuming your DataFrame is called 'df'\n",
        "\n",
        "# Function to get the full name of the element from its symbol\n",
        "def get_element_name(symbol):\n",
        "    try:\n",
        "        element = elements.symbol(symbol)\n",
        "        return element.name\n",
        "    except KeyError:\n",
        "        return symbol\n",
        "\n",
        "# Function to extract atom counts from the molecular formula\n",
        "def extract_atom_counts(mf, charge):\n",
        "    if charge != 0:\n",
        "      if charge >= 1:\n",
        "        mf = mf.replace('+', '')\n",
        "      elif charge <= -1:\n",
        "        mf = mf.replace('-', '')\n",
        "      mf = mf.replace(str(charge), '')\n",
        "    atom_counts = chemparse.parse_formula(mf)\n",
        "    return [(get_element_name(atom), int(count)) for atom, count in atom_counts.items()]\n",
        "\n",
        "# Helper function to randomly choose an alternative phrase from the list\n",
        "def random_alternative(alternatives):\n",
        "    return random.choice(alternatives)\n",
        "\n",
        "# Example function to generate pseudo description for each compound with variability\n",
        "def generate_pseudo_description(row):\n",
        "    atom_counts = extract_atom_counts(row['mf'], row['charge'])\n",
        "\n",
        "    # List of alternative phrases for each sentence template\n",
        "    weight_phrases = [\n",
        "        f\"It has a molecular weight of {row['mw']:.2f} g/mol.\",\n",
        "        f\"The molecule weighs {row['mw']:.2f} g/mol.\",\n",
        "        f\"The compound possesses a molecular weight of {row['mw']:.2f} g/mol.\"\n",
        "    ]\n",
        "\n",
        "    x = f' and a molecular formula of {row[\"mf\"]}'\n",
        "    if row['charge'] != 0:\n",
        "        x += f\" with a total charge of {'positive ' if row['charge'] > 0 else 'negative '}\" + str(row['charge'])\n",
        "\n",
        "    formula_phrases = [\n",
        "        \"It contains {}{}.\".format(', '.join([f'{count} {atom} {\"atoms\" if count > 1 else \"atom\"}' for atom, count in atom_counts]), x),\n",
        "        \"The molecule has the molecular formula of {}{}.\".format(', '.join([f'{count} {atom} {\"atoms\" if count > 1 else \"atom\"}' for atom, count in atom_counts]), x),\n",
        "        \"The compound consists of {}{}.\".format(', '.join([f'{count} {atom} {\"atoms\" if count > 1 else \"atom\"}' for atom, count in atom_counts]), x)\n",
        "    ]\n",
        "\n",
        "    polar_area_phrases = [\n",
        "        f\"It has a polar area of {row['polararea']:.2f} square angstroms.\",\n",
        "        f\"The molecule exhibits a polar area of {row['polararea']:.2f} square angstroms.\",\n",
        "        f\"The compound shows a polar area measuring {row['polararea']:.2f} square angstroms.\"\n",
        "    ]\n",
        "\n",
        "    donor_phrases = [\n",
        "        f\"It contains {row['hbonddonor']} hydrogen bond donor(s).\",\n",
        "        f\"The molecule possesses {row['hbonddonor']} hydrogen bond donor(s).\",\n",
        "        f\"The compound has {row['hbonddonor']} hydrogen bond donor(s).\"\n",
        "    ]\n",
        "\n",
        "\n",
        "    # Shuffle the order of sentence templates and select random alternatives\n",
        "    templates = [\n",
        "        random_alternative(weight_phrases),\n",
        "        random_alternative(formula_phrases),\n",
        "        random_alternative(polar_area_phrases),\n",
        "        random_alternative(donor_phrases),\n",
        "    ]\n",
        "\n",
        "    description = \" \".join(templates)\n",
        "    return description\n",
        "\n",
        "# Apply the function to create the 'pseudoDescription' column\n",
        "\n"
      ]
    },
    {
      "cell_type": "code",
      "source": [
        "df['pseudoDescription'] = df.apply(generate_pseudo_description, axis=1)\n"
      ],
      "metadata": {
        "id": "dHSVALcIXyP9"
      },
      "execution_count": null,
      "outputs": []
    },
    {
      "cell_type": "code",
      "source": [
        "df['fullDescription'] = df['description'] + ' ' + df['pseudoDescription']\n"
      ],
      "metadata": {
        "id": "3lxxqHGgX589"
      },
      "execution_count": null,
      "outputs": []
    },
    {
      "cell_type": "code",
      "source": [
        "df['fullDescription'][12]"
      ],
      "metadata": {
        "colab": {
          "base_uri": "https://localhost:8080/",
          "height": 71
        },
        "id": "v_95KE6fX_tI",
        "outputId": "e3b1fd2a-5bbd-4fe7-dc1f-39afe6128884"
      },
      "execution_count": null,
      "outputs": [
        {
          "output_type": "execute_result",
          "data": {
            "text/plain": [
              "'1,8-diazacyclotetradecane-2,9-dione is a ketone. It has a molecular weight of 226.32 g/mol. It contains 12 carbon atoms, 22 hydrogen atoms, 2 nitrogen atoms, 2 oxygen atoms and a molecular formula of C12H22N2O2. The compound shows a polar area measuring 58.20 square angstroms. The compound has 2 hydrogen bond donor(s).'"
            ],
            "application/vnd.google.colaboratory.intrinsic+json": {
              "type": "string"
            }
          },
          "metadata": {},
          "execution_count": 185
        }
      ]
    },
    {
      "cell_type": "code",
      "source": [
        "df.to_pickle('drive/MyDrive/df_pseudo.pkl')"
      ],
      "metadata": {
        "id": "68Z0ybXqYE8t"
      },
      "execution_count": null,
      "outputs": []
    }
  ],
  "metadata": {
    "colab": {
      "provenance": []
    },
    "kernelspec": {
      "display_name": "Python 3",
      "name": "python3"
    },
    "language_info": {
      "name": "python"
    }
  },
  "nbformat": 4,
  "nbformat_minor": 0
}