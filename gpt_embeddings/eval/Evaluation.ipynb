{
  "nbformat": 4,
  "nbformat_minor": 0,
  "metadata": {
    "colab": {
      "provenance": [],
      "gpuType": "V100"
    },
    "kernelspec": {
      "name": "python3",
      "display_name": "Python 3"
    },
    "language_info": {
      "name": "python"
    }
  },
  "cells": [
    {
      "cell_type": "code",
      "execution_count": null,
      "metadata": {
        "id": "YhNaBU7bmQpZ",
        "colab": {
          "base_uri": "https://localhost:8080/"
        },
        "outputId": "b739cc52-a563-4161-f363-066df92fc2c1"
      },
      "outputs": [
        {
          "output_type": "stream",
          "name": "stdout",
          "text": [
            "Drive already mounted at /content/drive; to attempt to forcibly remount, call drive.mount(\"/content/drive\", force_remount=True).\n"
          ]
        }
      ],
      "source": [
        "import pandas as pd\n",
        "from google.colab import drive\n",
        "drive.mount('/content/drive')\n"
      ]
    },
    {
      "cell_type": "code",
      "source": [
        "new = pd.read_pickle('drive/MyDrive/benchmark/question_new_results_FINAL_2.pkl')\n",
        "old = pd.read_pickle('drive/MyDrive/benchmark/question_old_results_FINAL_2.pkl')"
      ],
      "metadata": {
        "id": "Q6oFcrEBFcXi"
      },
      "execution_count": null,
      "outputs": []
    },
    {
      "cell_type": "code",
      "source": [
        "new"
      ],
      "metadata": {
        "colab": {
          "base_uri": "https://localhost:8080/",
          "height": 745
        },
        "id": "sxMJiv7dSF7F",
        "outputId": "c638c82a-51fb-4cdc-c9ad-c98b658e9eb9"
      },
      "execution_count": null,
      "outputs": [
        {
          "output_type": "execute_result",
          "data": {
            "text/plain": [
              "     index      cid                   compdname  \\\n",
              "0        0   168464  Silver hexafluorophosphate   \n",
              "1        1  9831659                  Ipamorelin   \n",
              "2        2  5311309                 Nateglinide   \n",
              "3        3  5282096             Caffeyl alcohol   \n",
              "4        4   439318                 Bekanamycin   \n",
              "..     ...      ...                         ...   \n",
              "987    996  9915879                     Mexoryl   \n",
              "988    997  5359967                      Indium   \n",
              "989    998  6327608              Benzeneselenol   \n",
              "990    999    64735     Lanthanum(III) chloride   \n",
              "991   1000  5280789                Neurosporene   \n",
              "\n",
              "                                                  desc  \\\n",
              "0    Silver hexafluorophosphate, sometimes referred...   \n",
              "1    Ipamorelin (INN) (developmental code name NNC ...   \n",
              "2    Nateglinide (INN, trade name Starlix) is a dru...   \n",
              "3    Caffeyl alcohol is the organic compound with t...   \n",
              "4    Bekanamycin (INN; kanamycin B) is an aminoglyc...   \n",
              "..                                                 ...   \n",
              "987  Mexoryl is the trade name of a number of UV ab...   \n",
              "988  Indium is a chemical element with the symbol I...   \n",
              "989  Benzeneselenol, also known as selenophenol, is...   \n",
              "990  Lanthanum chloride is the inorganic compound w...   \n",
              "991  Neurosporene is a carotenoid pigment.  It is a...   \n",
              "\n",
              "                                       wiki_summarized  \\\n",
              "0    Silver hexafluorphosphate, also known as silve...   \n",
              "1    IpaMorelin is a selective agonist for the grow...   \n",
              "2    Nateglinaide is a blood glucose lowering drug ...   \n",
              "3    Caffeyl Alcohol is a colorless solid that can ...   \n",
              "4    This article is about an amino-glycosidic anti...   \n",
              "..                                                 ...   \n",
              "987     MexorYL is the name of an ultraviolet absorber   \n",
              "988  Indium, a soft metal with an alkali appearance...   \n",
              "989  The organoslesium compound benzeneseleneol is ...   \n",
              "990  Lanthium chloride is a mineral used in chemist...   \n",
              "991  This article describes a carotenoid called neu...   \n",
              "\n",
              "                                              question  \\\n",
              "0    The compound The compound also known as The co...   \n",
              "1    The compound is a selective agonist for the gr...   \n",
              "2    The compound is a blood glucose lowering drug ...   \n",
              "3    The compound The compound is a colorless solid...   \n",
              "4    This article is about an amino-glycosidic anti...   \n",
              "..                                                 ...   \n",
              "987  The compound is the name of an ultraviolet abs...   \n",
              "988  The compound, a soft metal with an alkali appe...   \n",
              "989  The organoslesium compound The compound is a c...   \n",
              "990  The compound The compound is a mineral used in...   \n",
              "991  This article describes a carotenoid called The...   \n",
              "\n",
              "                                               results  \\\n",
              "0    Unfortunately, there is no information provide...   \n",
              "1    Ipamorelin is a peptide compound that belongs ...   \n",
              "2    Nateglinide is a medication used to treat type...   \n",
              "3    Caffeyl alcohol is an organic compound that be...   \n",
              "4    I'm sorry, but there is no information about B...   \n",
              "..                                                 ...   \n",
              "987  Mexoryl is a chemical compound that belongs to...   \n",
              "988  Indium is a metallic element with the atomic s...   \n",
              "989  Benzeneselenol is an organoselenium compound w...   \n",
              "990  Lanthanum(III) chloride is a compound consisti...   \n",
              "991  Neurosporene is a carotenoid pigment that is n...   \n",
              "\n",
              "                                      gpt_base_results  \n",
              "0    Silver hexafluorophosphate is an inorganic com...  \n",
              "1    Ipamorelin is a synthetic peptide hormone that...  \n",
              "2    Nateglinide is a medication that belongs to th...  \n",
              "3    Caffeyl alcohol, also known as caffeic alcohol...  \n",
              "4    Bekanamycin is an aminoglycoside antibiotic de...  \n",
              "..                                                 ...  \n",
              "987  Mexoryl is a chemical compound that belongs to...  \n",
              "988  Indium is a chemical element with the atomic s...  \n",
              "989  Benzeneselenol, also known as phenylselenol, i...  \n",
              "990  Lanthanum(III) chloride, also known as lanthan...  \n",
              "991  Neurosporene is a naturally occurring caroteno...  \n",
              "\n",
              "[992 rows x 8 columns]"
            ],
            "text/html": [
              "\n",
              "\n",
              "  <div id=\"df-0fb5346a-23a4-4e1d-8290-a8af6dfc87c6\">\n",
              "    <div class=\"colab-df-container\">\n",
              "      <div>\n",
              "<style scoped>\n",
              "    .dataframe tbody tr th:only-of-type {\n",
              "        vertical-align: middle;\n",
              "    }\n",
              "\n",
              "    .dataframe tbody tr th {\n",
              "        vertical-align: top;\n",
              "    }\n",
              "\n",
              "    .dataframe thead th {\n",
              "        text-align: right;\n",
              "    }\n",
              "</style>\n",
              "<table border=\"1\" class=\"dataframe\">\n",
              "  <thead>\n",
              "    <tr style=\"text-align: right;\">\n",
              "      <th></th>\n",
              "      <th>index</th>\n",
              "      <th>cid</th>\n",
              "      <th>compdname</th>\n",
              "      <th>desc</th>\n",
              "      <th>wiki_summarized</th>\n",
              "      <th>question</th>\n",
              "      <th>results</th>\n",
              "      <th>gpt_base_results</th>\n",
              "    </tr>\n",
              "  </thead>\n",
              "  <tbody>\n",
              "    <tr>\n",
              "      <th>0</th>\n",
              "      <td>0</td>\n",
              "      <td>168464</td>\n",
              "      <td>Silver hexafluorophosphate</td>\n",
              "      <td>Silver hexafluorophosphate, sometimes referred...</td>\n",
              "      <td>Silver hexafluorphosphate, also known as silve...</td>\n",
              "      <td>The compound The compound also known as The co...</td>\n",
              "      <td>Unfortunately, there is no information provide...</td>\n",
              "      <td>Silver hexafluorophosphate is an inorganic com...</td>\n",
              "    </tr>\n",
              "    <tr>\n",
              "      <th>1</th>\n",
              "      <td>1</td>\n",
              "      <td>9831659</td>\n",
              "      <td>Ipamorelin</td>\n",
              "      <td>Ipamorelin (INN) (developmental code name NNC ...</td>\n",
              "      <td>IpaMorelin is a selective agonist for the grow...</td>\n",
              "      <td>The compound is a selective agonist for the gr...</td>\n",
              "      <td>Ipamorelin is a peptide compound that belongs ...</td>\n",
              "      <td>Ipamorelin is a synthetic peptide hormone that...</td>\n",
              "    </tr>\n",
              "    <tr>\n",
              "      <th>2</th>\n",
              "      <td>2</td>\n",
              "      <td>5311309</td>\n",
              "      <td>Nateglinide</td>\n",
              "      <td>Nateglinide (INN, trade name Starlix) is a dru...</td>\n",
              "      <td>Nateglinaide is a blood glucose lowering drug ...</td>\n",
              "      <td>The compound is a blood glucose lowering drug ...</td>\n",
              "      <td>Nateglinide is a medication used to treat type...</td>\n",
              "      <td>Nateglinide is a medication that belongs to th...</td>\n",
              "    </tr>\n",
              "    <tr>\n",
              "      <th>3</th>\n",
              "      <td>3</td>\n",
              "      <td>5282096</td>\n",
              "      <td>Caffeyl alcohol</td>\n",
              "      <td>Caffeyl alcohol is the organic compound with t...</td>\n",
              "      <td>Caffeyl Alcohol is a colorless solid that can ...</td>\n",
              "      <td>The compound The compound is a colorless solid...</td>\n",
              "      <td>Caffeyl alcohol is an organic compound that be...</td>\n",
              "      <td>Caffeyl alcohol, also known as caffeic alcohol...</td>\n",
              "    </tr>\n",
              "    <tr>\n",
              "      <th>4</th>\n",
              "      <td>4</td>\n",
              "      <td>439318</td>\n",
              "      <td>Bekanamycin</td>\n",
              "      <td>Bekanamycin (INN; kanamycin B) is an aminoglyc...</td>\n",
              "      <td>This article is about an amino-glycosidic anti...</td>\n",
              "      <td>This article is about an amino-glycosidic anti...</td>\n",
              "      <td>I'm sorry, but there is no information about B...</td>\n",
              "      <td>Bekanamycin is an aminoglycoside antibiotic de...</td>\n",
              "    </tr>\n",
              "    <tr>\n",
              "      <th>...</th>\n",
              "      <td>...</td>\n",
              "      <td>...</td>\n",
              "      <td>...</td>\n",
              "      <td>...</td>\n",
              "      <td>...</td>\n",
              "      <td>...</td>\n",
              "      <td>...</td>\n",
              "      <td>...</td>\n",
              "    </tr>\n",
              "    <tr>\n",
              "      <th>987</th>\n",
              "      <td>996</td>\n",
              "      <td>9915879</td>\n",
              "      <td>Mexoryl</td>\n",
              "      <td>Mexoryl is the trade name of a number of UV ab...</td>\n",
              "      <td>MexorYL is the name of an ultraviolet absorber</td>\n",
              "      <td>The compound is the name of an ultraviolet abs...</td>\n",
              "      <td>Mexoryl is a chemical compound that belongs to...</td>\n",
              "      <td>Mexoryl is a chemical compound that belongs to...</td>\n",
              "    </tr>\n",
              "    <tr>\n",
              "      <th>988</th>\n",
              "      <td>997</td>\n",
              "      <td>5359967</td>\n",
              "      <td>Indium</td>\n",
              "      <td>Indium is a chemical element with the symbol I...</td>\n",
              "      <td>Indium, a soft metal with an alkali appearance...</td>\n",
              "      <td>The compound, a soft metal with an alkali appe...</td>\n",
              "      <td>Indium is a metallic element with the atomic s...</td>\n",
              "      <td>Indium is a chemical element with the atomic s...</td>\n",
              "    </tr>\n",
              "    <tr>\n",
              "      <th>989</th>\n",
              "      <td>998</td>\n",
              "      <td>6327608</td>\n",
              "      <td>Benzeneselenol</td>\n",
              "      <td>Benzeneselenol, also known as selenophenol, is...</td>\n",
              "      <td>The organoslesium compound benzeneseleneol is ...</td>\n",
              "      <td>The organoslesium compound The compound is a c...</td>\n",
              "      <td>Benzeneselenol is an organoselenium compound w...</td>\n",
              "      <td>Benzeneselenol, also known as phenylselenol, i...</td>\n",
              "    </tr>\n",
              "    <tr>\n",
              "      <th>990</th>\n",
              "      <td>999</td>\n",
              "      <td>64735</td>\n",
              "      <td>Lanthanum(III) chloride</td>\n",
              "      <td>Lanthanum chloride is the inorganic compound w...</td>\n",
              "      <td>Lanthium chloride is a mineral used in chemist...</td>\n",
              "      <td>The compound The compound is a mineral used in...</td>\n",
              "      <td>Lanthanum(III) chloride is a compound consisti...</td>\n",
              "      <td>Lanthanum(III) chloride, also known as lanthan...</td>\n",
              "    </tr>\n",
              "    <tr>\n",
              "      <th>991</th>\n",
              "      <td>1000</td>\n",
              "      <td>5280789</td>\n",
              "      <td>Neurosporene</td>\n",
              "      <td>Neurosporene is a carotenoid pigment.  It is a...</td>\n",
              "      <td>This article describes a carotenoid called neu...</td>\n",
              "      <td>This article describes a carotenoid called The...</td>\n",
              "      <td>Neurosporene is a carotenoid pigment that is n...</td>\n",
              "      <td>Neurosporene is a naturally occurring caroteno...</td>\n",
              "    </tr>\n",
              "  </tbody>\n",
              "</table>\n",
              "<p>992 rows × 8 columns</p>\n",
              "</div>\n",
              "      <button class=\"colab-df-convert\" onclick=\"convertToInteractive('df-0fb5346a-23a4-4e1d-8290-a8af6dfc87c6')\"\n",
              "              title=\"Convert this dataframe to an interactive table.\"\n",
              "              style=\"display:none;\">\n",
              "\n",
              "  <svg xmlns=\"http://www.w3.org/2000/svg\" height=\"24px\"viewBox=\"0 0 24 24\"\n",
              "       width=\"24px\">\n",
              "    <path d=\"M0 0h24v24H0V0z\" fill=\"none\"/>\n",
              "    <path d=\"M18.56 5.44l.94 2.06.94-2.06 2.06-.94-2.06-.94-.94-2.06-.94 2.06-2.06.94zm-11 1L8.5 8.5l.94-2.06 2.06-.94-2.06-.94L8.5 2.5l-.94 2.06-2.06.94zm10 10l.94 2.06.94-2.06 2.06-.94-2.06-.94-.94-2.06-.94 2.06-2.06.94z\"/><path d=\"M17.41 7.96l-1.37-1.37c-.4-.4-.92-.59-1.43-.59-.52 0-1.04.2-1.43.59L10.3 9.45l-7.72 7.72c-.78.78-.78 2.05 0 2.83L4 21.41c.39.39.9.59 1.41.59.51 0 1.02-.2 1.41-.59l7.78-7.78 2.81-2.81c.8-.78.8-2.07 0-2.86zM5.41 20L4 18.59l7.72-7.72 1.47 1.35L5.41 20z\"/>\n",
              "  </svg>\n",
              "      </button>\n",
              "\n",
              "\n",
              "\n",
              "    <div id=\"df-3aedc83c-a0d5-4629-a88e-e029e487af22\">\n",
              "      <button class=\"colab-df-quickchart\" onclick=\"quickchart('df-3aedc83c-a0d5-4629-a88e-e029e487af22')\"\n",
              "              title=\"Suggest charts.\"\n",
              "              style=\"display:none;\">\n",
              "\n",
              "<svg xmlns=\"http://www.w3.org/2000/svg\" height=\"24px\"viewBox=\"0 0 24 24\"\n",
              "     width=\"24px\">\n",
              "    <g>\n",
              "        <path d=\"M19 3H5c-1.1 0-2 .9-2 2v14c0 1.1.9 2 2 2h14c1.1 0 2-.9 2-2V5c0-1.1-.9-2-2-2zM9 17H7v-7h2v7zm4 0h-2V7h2v10zm4 0h-2v-4h2v4z\"/>\n",
              "    </g>\n",
              "</svg>\n",
              "      </button>\n",
              "    </div>\n",
              "\n",
              "<style>\n",
              "  .colab-df-quickchart {\n",
              "    background-color: #E8F0FE;\n",
              "    border: none;\n",
              "    border-radius: 50%;\n",
              "    cursor: pointer;\n",
              "    display: none;\n",
              "    fill: #1967D2;\n",
              "    height: 32px;\n",
              "    padding: 0 0 0 0;\n",
              "    width: 32px;\n",
              "  }\n",
              "\n",
              "  .colab-df-quickchart:hover {\n",
              "    background-color: #E2EBFA;\n",
              "    box-shadow: 0px 1px 2px rgba(60, 64, 67, 0.3), 0px 1px 3px 1px rgba(60, 64, 67, 0.15);\n",
              "    fill: #174EA6;\n",
              "  }\n",
              "\n",
              "  [theme=dark] .colab-df-quickchart {\n",
              "    background-color: #3B4455;\n",
              "    fill: #D2E3FC;\n",
              "  }\n",
              "\n",
              "  [theme=dark] .colab-df-quickchart:hover {\n",
              "    background-color: #434B5C;\n",
              "    box-shadow: 0px 1px 3px 1px rgba(0, 0, 0, 0.15);\n",
              "    filter: drop-shadow(0px 1px 2px rgba(0, 0, 0, 0.3));\n",
              "    fill: #FFFFFF;\n",
              "  }\n",
              "</style>\n",
              "\n",
              "    <script>\n",
              "      async function quickchart(key) {\n",
              "        const containerElement = document.querySelector('#' + key);\n",
              "        const charts = await google.colab.kernel.invokeFunction(\n",
              "            'suggestCharts', [key], {});\n",
              "      }\n",
              "    </script>\n",
              "\n",
              "      <script>\n",
              "\n",
              "function displayQuickchartButton(domScope) {\n",
              "  let quickchartButtonEl =\n",
              "    domScope.querySelector('#df-3aedc83c-a0d5-4629-a88e-e029e487af22 button.colab-df-quickchart');\n",
              "  quickchartButtonEl.style.display =\n",
              "    google.colab.kernel.accessAllowed ? 'block' : 'none';\n",
              "}\n",
              "\n",
              "        displayQuickchartButton(document);\n",
              "      </script>\n",
              "      <style>\n",
              "    .colab-df-container {\n",
              "      display:flex;\n",
              "      flex-wrap:wrap;\n",
              "      gap: 12px;\n",
              "    }\n",
              "\n",
              "    .colab-df-convert {\n",
              "      background-color: #E8F0FE;\n",
              "      border: none;\n",
              "      border-radius: 50%;\n",
              "      cursor: pointer;\n",
              "      display: none;\n",
              "      fill: #1967D2;\n",
              "      height: 32px;\n",
              "      padding: 0 0 0 0;\n",
              "      width: 32px;\n",
              "    }\n",
              "\n",
              "    .colab-df-convert:hover {\n",
              "      background-color: #E2EBFA;\n",
              "      box-shadow: 0px 1px 2px rgba(60, 64, 67, 0.3), 0px 1px 3px 1px rgba(60, 64, 67, 0.15);\n",
              "      fill: #174EA6;\n",
              "    }\n",
              "\n",
              "    [theme=dark] .colab-df-convert {\n",
              "      background-color: #3B4455;\n",
              "      fill: #D2E3FC;\n",
              "    }\n",
              "\n",
              "    [theme=dark] .colab-df-convert:hover {\n",
              "      background-color: #434B5C;\n",
              "      box-shadow: 0px 1px 3px 1px rgba(0, 0, 0, 0.15);\n",
              "      filter: drop-shadow(0px 1px 2px rgba(0, 0, 0, 0.3));\n",
              "      fill: #FFFFFF;\n",
              "    }\n",
              "  </style>\n",
              "\n",
              "      <script>\n",
              "        const buttonEl =\n",
              "          document.querySelector('#df-0fb5346a-23a4-4e1d-8290-a8af6dfc87c6 button.colab-df-convert');\n",
              "        buttonEl.style.display =\n",
              "          google.colab.kernel.accessAllowed ? 'block' : 'none';\n",
              "\n",
              "        async function convertToInteractive(key) {\n",
              "          const element = document.querySelector('#df-0fb5346a-23a4-4e1d-8290-a8af6dfc87c6');\n",
              "          const dataTable =\n",
              "            await google.colab.kernel.invokeFunction('convertToInteractive',\n",
              "                                                     [key], {});\n",
              "          if (!dataTable) return;\n",
              "\n",
              "          const docLinkHtml = 'Like what you see? Visit the ' +\n",
              "            '<a target=\"_blank\" href=https://colab.research.google.com/notebooks/data_table.ipynb>data table notebook</a>'\n",
              "            + ' to learn more about interactive tables.';\n",
              "          element.innerHTML = '';\n",
              "          dataTable['output_type'] = 'display_data';\n",
              "          await google.colab.output.renderOutput(dataTable, element);\n",
              "          const docLink = document.createElement('div');\n",
              "          docLink.innerHTML = docLinkHtml;\n",
              "          element.appendChild(docLink);\n",
              "        }\n",
              "      </script>\n",
              "    </div>\n",
              "  </div>\n"
            ]
          },
          "metadata": {},
          "execution_count": 3
        }
      ]
    },
    {
      "cell_type": "code",
      "source": [
        "df = pd.concat((new, old))"
      ],
      "metadata": {
        "id": "IW7FtRlfPPOC"
      },
      "execution_count": null,
      "outputs": []
    },
    {
      "cell_type": "code",
      "source": [
        "def create_dict(answer):\n",
        "  try:\n",
        "    arr = answer.split(\"\\n\")\n",
        "  except AttributeError:\n",
        "    return\n",
        "  answer = answer.replace('\\n', ' ')\n",
        "  d = {'description':''}\n",
        "  for el in arr:\n",
        "    if ':' not in el or len(el.split(':')) <= 1:\n",
        "      d['description'] += el\n",
        "    else:\n",
        "      if len(el.split(':')[1]) > 0:\n",
        "        d[' '.join(el.split(':')[0].split(' ')[1:])] = el.split(':')[1]\n",
        "\n",
        "  x = answer.replace('. ', ' ').replace(', ', ' ').split()\n",
        "  try:\n",
        "    d['Molecular Weight'] = float(x[x.index('g/mol')-1])\n",
        "    d['Polar Area'] = float(x[x.index('angstroms')-2])\n",
        "    d['Molecular Formula']  = x[x.index('formula')+2]\n",
        "  except:\n",
        "    pass\n",
        "\n",
        "  d['Appearance'] = ''\n",
        "  d['Solubility'] = ''\n",
        "  d['Density'] = ''\n",
        "  d['Reactivity'] = ''\n",
        "  d['Stability'] = ''\n",
        "  d['Toxicity'] = ''\n",
        "  d['Boiling Point'] = ''\n",
        "  d['Melting Point'] = ''\n",
        "  for sentence in answer.split('. '):\n",
        "    if \"color\" in sentence:\n",
        "      d['Appearance'] += sentence\n",
        "    if \"hardness\" in sentence:\n",
        "      if d['Appearance']:\n",
        "        d['Appearance'] += '. '\n",
        "      d['Appearance'] += sentence\n",
        "\n",
        "    if \"solub\" in sentence:\n",
        "      if d['Solubility']:\n",
        "        d['Solubility'] += '. '\n",
        "      d['Solubility'] += sentence\n",
        "\n",
        "    if 'density' in sentence:\n",
        "      if d['Density']:\n",
        "        d['Density'] += '. '\n",
        "      d['Density'] += sentence\n",
        "\n",
        "    if 'react' in sentence:\n",
        "      if d['Reactivity']:\n",
        "        d['Reactivity'] += '. '\n",
        "      d['Reactivity'] += sentence\n",
        "\n",
        "    if 'tox' in sentence:\n",
        "      if d['Toxicity']:\n",
        "        d['Toxicity'] += '. '\n",
        "      d['Toxicity'] += sentence\n",
        "\n",
        "    if 'stab' in sentence:\n",
        "      if d['Stability']:\n",
        "        d['Stability'] += '. '\n",
        "      d['Stability'] += sentence\n",
        "\n",
        "    if 'boil' in sentence:\n",
        "      if d['Boiling Point']:\n",
        "        d['Boiling Point'] += '. '\n",
        "      d['Boiling Point'] += sentence\n",
        "\n",
        "    if 'melt' in sentence:\n",
        "      if d['Melting Point']:\n",
        "        d['Melting Point'] += '. '\n",
        "      d['Melting Point'] += sentence\n",
        "\n",
        "  if d == {}:\n",
        "    return answer\n",
        "  return d"
      ],
      "metadata": {
        "id": "xuywy-FqRoIz"
      },
      "execution_count": null,
      "outputs": []
    },
    {
      "cell_type": "code",
      "source": [
        "import random\n",
        "n = random.randrange(len(new))\n",
        "create_dict(new['results'][n])\n"
      ],
      "metadata": {
        "colab": {
          "base_uri": "https://localhost:8080/"
        },
        "id": "dMFbai04KvRr",
        "outputId": "4a5be9a2-6235-40b7-e7c5-fddc6d7bd398"
      },
      "execution_count": null,
      "outputs": [
        {
          "output_type": "execute_result",
          "data": {
            "text/plain": [
              "{'description': \"Potassium arsenate is a chemical compound that consists of potassium cations (K+) and arsenate anions (AsO4^3-). Unfortunately, there is no specific information about potassium arsenate in the provided context. However, we can make some educated guesses based on general knowledge of similar compounds.Potassium arsenate is likely to be a solid compound at room temperature, given that most potassium compounds are solid. It may have a white or colorless appearance, as many potassium salts tend to be white or colorless in their solid form.In terms of solubility, potassium arsenate may be soluble in water to some extent. This is because most potassium salts are water-soluble, meaning they can dissolve in water to form a homogeneous solution. However, it is important to note that the solubility of potassium arsenate can vary depending on the specific conditions and concentration.Reactivity-wise, arsenates are generally considered to be toxic and potentially hazardous. They can have harmful effects on human health and the environment. Arsenates are known to be strong oxidizing agents, meaning they have the ability to promote oxidation reactions. However, without specific information about potassium arsenate's reactivity, it is difficult to make any definitive statements.Density information is not available in the given context, but we can estimate that potassium arsenate may have a relatively high density. This is because potassium salts, in general, tend to have higher densities compared to other compounds.In summary, potassium arsenate is likely a solid compound with a white or colorless appearance. It may be soluble in water to some extent, but its exact solubility would depend on specific conditions. As an arsenate compound, it is potentially toxic and may have oxidizing properties. Further information regarding its density and reactivity would be needed for a more comprehensive description.\",\n",
              " 'Appearance': 'It may have a white or colorless appearance, as many potassium salts tend to be white or colorless in their solid form In summary, potassium arsenate is likely a solid compound with a white or colorless appearance',\n",
              " 'Solubility': ' In terms of solubility, potassium arsenate may be soluble in water to some extent. This is because most potassium salts are water-soluble, meaning they can dissolve in water to form a homogeneous solution. However, it is important to note that the solubility of potassium arsenate can vary depending on the specific conditions and concentration. It may be soluble in water to some extent, but its exact solubility would depend on specific conditions',\n",
              " 'Density': ' Density information is not available in the given context, but we can estimate that potassium arsenate may have a relatively high density. Further information regarding its density and reactivity would be needed for a more comprehensive description.',\n",
              " 'Reactivity': \"Arsenates are known to be strong oxidizing agents, meaning they have the ability to promote oxidation reactions. However, without specific information about potassium arsenate's reactivity, it is difficult to make any definitive statements. Further information regarding its density and reactivity would be needed for a more comprehensive description.\",\n",
              " 'Stability': '',\n",
              " 'Toxicity': ' Reactivity-wise, arsenates are generally considered to be toxic and potentially hazardous. As an arsenate compound, it is potentially toxic and may have oxidizing properties',\n",
              " 'Boiling Point': '',\n",
              " 'Melting Point': ''}"
            ]
          },
          "metadata": {},
          "execution_count": 6
        }
      ]
    },
    {
      "cell_type": "code",
      "source": [
        "new['results'][238]"
      ],
      "metadata": {
        "colab": {
          "base_uri": "https://localhost:8080/",
          "height": 143
        },
        "id": "E-IctBWXMI9V",
        "outputId": "8631db28-31bb-4a7d-84ec-83be4c208143"
      },
      "execution_count": null,
      "outputs": [
        {
          "output_type": "execute_result",
          "data": {
            "text/plain": [
              "'The molecule alpha-D-glucopyranosyl-(1->4)-alpha-D-glucopyranosyl-(1->4)-alpha-D-glucopyranosyl-(1->4)-alpha-D-glucopyranosyl-(1->4)-alpha-D-glucopyranose is a polysaccharide consisting of five glucose units linked together by alpha-glycosidic bonds. \\n\\nBased on prior knowledge of similar compounds, it is likely that this molecule is a type of starch or cellulose, which are polysaccharides composed of glucose units. Starch is typically a white, odorless powder, while cellulose is a fibrous, insoluble substance. Therefore, it is reasonable to assume that this molecule may have similar physical properties.\\n\\nDensity: The density of this compound is not specified in the given context, but polysaccharides generally have densities similar to other carbohydrate compounds, which range from 1.5 to 2.0 g/cm^3.\\n\\nSolubility: Polysaccharides like starch and cellulose are typically insoluble in organic solvents such as ethanol and ether. However, they are generally soluble in water, forming colloidal suspensions or gels. It is likely that this molecule exhibits similar solubility characteristics.\\n\\nReactivity: Polysaccharides are relatively inert compounds, meaning they are not highly reactive. However, they can undergo hydrolysis reactions in the presence of specific enzymes or acidic conditions, breaking the glycosidic bonds between the glucose units.\\n\\nAppearance: The appearance of this compound is not mentioned in the context. However, based on the assumption that it is similar to starch or cellulose, it may have a white or off-white color in its solid form.\\n\\nOverall, this molecule is a polysaccharide composed of glucose units linked together in a linear chain. It is likely to be insoluble in organic solvents but soluble in water. Its physical properties such as density and appearance would be consistent with other carbohydrate compounds.'"
            ],
            "application/vnd.google.colaboratory.intrinsic+json": {
              "type": "string"
            }
          },
          "metadata": {},
          "execution_count": 7
        }
      ]
    },
    {
      "cell_type": "code",
      "source": [
        "description_df = pd.read_pickle('drive/MyDrive/df_pseudo_1k_missing.pkl')"
      ],
      "metadata": {
        "id": "619M-9sBRoUe"
      },
      "execution_count": null,
      "outputs": []
    },
    {
      "cell_type": "code",
      "source": [
        "df['wiki_summarized'][311]"
      ],
      "metadata": {
        "colab": {
          "base_uri": "https://localhost:8080/"
        },
        "id": "zwQlKAOpOE5X",
        "outputId": "9c1a69d4-a11a-4b85-e1d2-d07fced384e9"
      },
      "execution_count": null,
      "outputs": [
        {
          "output_type": "execute_result",
          "data": {
            "text/plain": [
              "311    The urea nitrate is an explosive that can be u...\n",
              "311    Thiamine diphosphate, or thiamine pyrophosphor...\n",
              "Name: wiki_summarized, dtype: object"
            ]
          },
          "metadata": {},
          "execution_count": 9
        }
      ]
    },
    {
      "cell_type": "code",
      "source": [
        "df = pd.concat([new.rename(columns={\"compdname\":\"cmpdname\"}), old]).reset_index(drop=True)"
      ],
      "metadata": {
        "id": "iUEwsiZHJgco"
      },
      "execution_count": null,
      "outputs": []
    },
    {
      "cell_type": "code",
      "source": [
        "df['cmpdname'][1718]"
      ],
      "metadata": {
        "colab": {
          "base_uri": "https://localhost:8080/",
          "height": 35
        },
        "id": "Px43mo5YjUpI",
        "outputId": "d4170afb-52af-4c30-ff3e-fb3d4d7be880"
      },
      "execution_count": null,
      "outputs": [
        {
          "output_type": "execute_result",
          "data": {
            "text/plain": [
              "'Ebselen'"
            ],
            "application/vnd.google.colaboratory.intrinsic+json": {
              "type": "string"
            }
          },
          "metadata": {},
          "execution_count": 67
        }
      ]
    },
    {
      "cell_type": "markdown",
      "source": [],
      "metadata": {
        "id": "sPJDmJytG3c9"
      }
    },
    {
      "cell_type": "code",
      "source": [
        "!pip install sentence-transformers\n",
        "\n",
        "from sentence_transformers import SentenceTransformer, util\n",
        "\n",
        "\n",
        "# load our Sentence Transformers model pre trained!!\n",
        "model = SentenceTransformer('m3/m3-experiment-roberta-base-chemprot-word-swapping-embedding-3')"
      ],
      "metadata": {
        "id": "BVCvuVc3TWvc",
        "colab": {
          "base_uri": "https://localhost:8080/"
        },
        "outputId": "d992b2b9-9463-4877-9ef9-c49cc5c50c20"
      },
      "execution_count": null,
      "outputs": [
        {
          "output_type": "stream",
          "name": "stdout",
          "text": [
            "Requirement already satisfied: sentence-transformers in /usr/local/lib/python3.10/dist-packages (2.2.2)\n",
            "Requirement already satisfied: transformers<5.0.0,>=4.6.0 in /usr/local/lib/python3.10/dist-packages (from sentence-transformers) (4.32.1)\n",
            "Requirement already satisfied: tqdm in /usr/local/lib/python3.10/dist-packages (from sentence-transformers) (4.66.1)\n",
            "Requirement already satisfied: torch>=1.6.0 in /usr/local/lib/python3.10/dist-packages (from sentence-transformers) (2.0.1+cu118)\n",
            "Requirement already satisfied: torchvision in /usr/local/lib/python3.10/dist-packages (from sentence-transformers) (0.15.2+cu118)\n",
            "Requirement already satisfied: numpy in /usr/local/lib/python3.10/dist-packages (from sentence-transformers) (1.23.5)\n",
            "Requirement already satisfied: scikit-learn in /usr/local/lib/python3.10/dist-packages (from sentence-transformers) (1.2.2)\n",
            "Requirement already satisfied: scipy in /usr/local/lib/python3.10/dist-packages (from sentence-transformers) (1.10.1)\n",
            "Requirement already satisfied: nltk in /usr/local/lib/python3.10/dist-packages (from sentence-transformers) (3.8.1)\n",
            "Requirement already satisfied: sentencepiece in /usr/local/lib/python3.10/dist-packages (from sentence-transformers) (0.1.99)\n",
            "Requirement already satisfied: huggingface-hub>=0.4.0 in /usr/local/lib/python3.10/dist-packages (from sentence-transformers) (0.16.4)\n",
            "Requirement already satisfied: filelock in /usr/local/lib/python3.10/dist-packages (from huggingface-hub>=0.4.0->sentence-transformers) (3.12.2)\n",
            "Requirement already satisfied: fsspec in /usr/local/lib/python3.10/dist-packages (from huggingface-hub>=0.4.0->sentence-transformers) (2023.6.0)\n",
            "Requirement already satisfied: requests in /usr/local/lib/python3.10/dist-packages (from huggingface-hub>=0.4.0->sentence-transformers) (2.31.0)\n",
            "Requirement already satisfied: pyyaml>=5.1 in /usr/local/lib/python3.10/dist-packages (from huggingface-hub>=0.4.0->sentence-transformers) (6.0.1)\n",
            "Requirement already satisfied: typing-extensions>=3.7.4.3 in /usr/local/lib/python3.10/dist-packages (from huggingface-hub>=0.4.0->sentence-transformers) (4.7.1)\n",
            "Requirement already satisfied: packaging>=20.9 in /usr/local/lib/python3.10/dist-packages (from huggingface-hub>=0.4.0->sentence-transformers) (23.1)\n",
            "Requirement already satisfied: sympy in /usr/local/lib/python3.10/dist-packages (from torch>=1.6.0->sentence-transformers) (1.12)\n",
            "Requirement already satisfied: networkx in /usr/local/lib/python3.10/dist-packages (from torch>=1.6.0->sentence-transformers) (3.1)\n",
            "Requirement already satisfied: jinja2 in /usr/local/lib/python3.10/dist-packages (from torch>=1.6.0->sentence-transformers) (3.1.2)\n",
            "Requirement already satisfied: triton==2.0.0 in /usr/local/lib/python3.10/dist-packages (from torch>=1.6.0->sentence-transformers) (2.0.0)\n",
            "Requirement already satisfied: cmake in /usr/local/lib/python3.10/dist-packages (from triton==2.0.0->torch>=1.6.0->sentence-transformers) (3.27.2)\n",
            "Requirement already satisfied: lit in /usr/local/lib/python3.10/dist-packages (from triton==2.0.0->torch>=1.6.0->sentence-transformers) (16.0.6)\n",
            "Requirement already satisfied: regex!=2019.12.17 in /usr/local/lib/python3.10/dist-packages (from transformers<5.0.0,>=4.6.0->sentence-transformers) (2023.6.3)\n",
            "Requirement already satisfied: tokenizers!=0.11.3,<0.14,>=0.11.1 in /usr/local/lib/python3.10/dist-packages (from transformers<5.0.0,>=4.6.0->sentence-transformers) (0.13.3)\n",
            "Requirement already satisfied: safetensors>=0.3.1 in /usr/local/lib/python3.10/dist-packages (from transformers<5.0.0,>=4.6.0->sentence-transformers) (0.3.3)\n",
            "Requirement already satisfied: click in /usr/local/lib/python3.10/dist-packages (from nltk->sentence-transformers) (8.1.7)\n",
            "Requirement already satisfied: joblib in /usr/local/lib/python3.10/dist-packages (from nltk->sentence-transformers) (1.3.2)\n",
            "Requirement already satisfied: threadpoolctl>=2.0.0 in /usr/local/lib/python3.10/dist-packages (from scikit-learn->sentence-transformers) (3.2.0)\n",
            "Requirement already satisfied: pillow!=8.3.*,>=5.3.0 in /usr/local/lib/python3.10/dist-packages (from torchvision->sentence-transformers) (9.4.0)\n",
            "Requirement already satisfied: MarkupSafe>=2.0 in /usr/local/lib/python3.10/dist-packages (from jinja2->torch>=1.6.0->sentence-transformers) (2.1.3)\n",
            "Requirement already satisfied: charset-normalizer<4,>=2 in /usr/local/lib/python3.10/dist-packages (from requests->huggingface-hub>=0.4.0->sentence-transformers) (3.2.0)\n",
            "Requirement already satisfied: idna<4,>=2.5 in /usr/local/lib/python3.10/dist-packages (from requests->huggingface-hub>=0.4.0->sentence-transformers) (3.4)\n",
            "Requirement already satisfied: urllib3<3,>=1.21.1 in /usr/local/lib/python3.10/dist-packages (from requests->huggingface-hub>=0.4.0->sentence-transformers) (2.0.4)\n",
            "Requirement already satisfied: certifi>=2017.4.17 in /usr/local/lib/python3.10/dist-packages (from requests->huggingface-hub>=0.4.0->sentence-transformers) (2023.7.22)\n",
            "Requirement already satisfied: mpmath>=0.19 in /usr/local/lib/python3.10/dist-packages (from sympy->torch>=1.6.0->sentence-transformers) (1.3.0)\n"
          ]
        },
        {
          "output_type": "stream",
          "name": "stderr",
          "text": [
            "WARNING:sentence_transformers.SentenceTransformer:No sentence-transformers model found with name /root/.cache/torch/sentence_transformers/m3_m3-experiment-roberta-base-chemprot-word-swapping-embedding-3. Creating a new one with MEAN pooling.\n",
            "Some weights of RobertaModel were not initialized from the model checkpoint at /root/.cache/torch/sentence_transformers/m3_m3-experiment-roberta-base-chemprot-word-swapping-embedding-3 and are newly initialized: ['roberta.pooler.dense.bias', 'roberta.pooler.dense.weight']\n",
            "You should probably TRAIN this model on a down-stream task to be able to use it for predictions and inference.\n"
          ]
        }
      ]
    },
    {
      "cell_type": "code",
      "source": [
        "def compare(s1, s2):\n",
        "  try:\n",
        "    s1 = model.encode(s1)\n",
        "    s2 = model.encode(s2)\n",
        "    return float(util.cos_sim(s1, s2)[0])\n",
        "  except:\n",
        "    return 0"
      ],
      "metadata": {
        "id": "fEGmyLp1TuYC"
      },
      "execution_count": null,
      "outputs": []
    },
    {
      "cell_type": "code",
      "source": [
        "import re\n",
        "def calculate_score(prop_dict, pred_dict):\n",
        "  score = 1\n",
        "  if pred_dict is None:\n",
        "    return 0\n",
        "  for pred in pred_dict:\n",
        "    # try:\n",
        "    for prop in prop_dict:\n",
        "      if pred.lower() == prop.lower() == 'description' and pred_dict[pred] is not None and prop_dict[prop] is not None:\n",
        "        try:\n",
        "          sim = compare(pred_dict[pred], prop_dict[prop])\n",
        "          score *= sim\n",
        "        except:\n",
        "          # print(pred_dict\n",
        "          pass\n",
        "\n",
        "\n",
        "\n",
        "  return score"
      ],
      "metadata": {
        "id": "0NScIlD4Rodj"
      },
      "execution_count": null,
      "outputs": []
    },
    {
      "cell_type": "code",
      "source": [
        "n = 392\n",
        "compare(get_properties(new['compdname'][n], 'compdname'), new['results'][n]), compare(get_properties(new['compdname'][n], 'compdname'), new['gpt_base_results'][n])#compare(get_properties(new['compdname'][i], 'compdname'), new['results'][i]) for i in range(len(new))"
      ],
      "metadata": {
        "colab": {
          "base_uri": "https://localhost:8080/"
        },
        "id": "9laiJtCSRooS",
        "outputId": "f08bd111-44d5-4a77-b151-224f11082ad4"
      },
      "execution_count": null,
      "outputs": [
        {
          "output_type": "execute_result",
          "data": {
            "text/plain": [
              "(0.4984356164932251, 0.3610617518424988)"
            ]
          },
          "metadata": {},
          "execution_count": 16
        }
      ]
    },
    {
      "cell_type": "code",
      "source": [
        "get_properties(new['compdname'][n], 'compdname')"
      ],
      "metadata": {
        "colab": {
          "base_uri": "https://localhost:8080/",
          "height": 53
        },
        "id": "kV-RrWPVuUce",
        "outputId": "4374b8b1-6ab6-40a3-ae70-20d0410a519e"
      },
      "execution_count": null,
      "outputs": [
        {
          "output_type": "execute_result",
          "data": {
            "text/plain": [
              "'Prostaglandsin is a class of lipid compounds that have diverse effects in animal and human tissue. They were first isolated by the physiologist, Ulf Von Euler ; they are produced almost all tissues including blood vessels as well platelets through their role vasodilating function'"
            ],
            "application/vnd.google.colaboratory.intrinsic+json": {
              "type": "string"
            }
          },
          "metadata": {},
          "execution_count": 17
        }
      ]
    },
    {
      "cell_type": "code",
      "source": [
        "new['results'][n]"
      ],
      "metadata": {
        "colab": {
          "base_uri": "https://localhost:8080/",
          "height": 143
        },
        "id": "pVdsYDSYuWR-",
        "outputId": "364083cb-87ff-42b2-9bdd-97461e5d64df"
      },
      "execution_count": null,
      "outputs": [
        {
          "output_type": "execute_result",
          "data": {
            "text/plain": [
              "'Prostaglandin is a naturally occurring compound that belongs to a group of lipid molecules known as eicosanoids. It is derived from arachidonic acid, a polyunsaturated fatty acid. Prostaglandins play a crucial role in various physiological processes, including inflammation, immune response, blood clotting, and regulation of blood pressure.\\n\\nIn terms of physical properties, prostaglandins are typically oily liquids with a range of melting points and boiling points depending on their specific structure. Due to their lipid nature, they are generally insoluble in water but soluble in organic solvents such as ethanol or chloroform.\\n\\nProstaglandins are highly reactive compounds and can undergo various chemical reactions. They can be oxidized, reduced, or undergo enzymatic modifications to produce different prostaglandin derivatives. The reactivity of prostaglandins is influenced by the functional groups present in their structure, such as hydroxyl, carbonyl, and double bonds.\\n\\nThe appearance of prostaglandins can vary depending on the specific compound. However, they are commonly colorless or pale yellow liquids. Some prostaglandins may exhibit a slight odor.\\n\\nIn terms of density, it is challenging to provide specific information as it can vary depending on the specific prostaglandin compound. However, being lipid molecules, prostaglandins are generally less dense than water.\\n\\nIt is important to note that the properties mentioned above are general characteristics of prostaglandins based on their chemical structure and lipid nature. However, the exact properties of a specific prostaglandin compound may vary depending on its specific structure and functional groups attached.'"
            ],
            "application/vnd.google.colaboratory.intrinsic+json": {
              "type": "string"
            }
          },
          "metadata": {},
          "execution_count": 18
        }
      ]
    },
    {
      "cell_type": "code",
      "source": [
        "create_dict(new['gpt_base_results'][n+4])"
      ],
      "metadata": {
        "id": "hc4E4R0FxqVg",
        "colab": {
          "base_uri": "https://localhost:8080/"
        },
        "outputId": "06700fef-dd9a-4f62-90de-b924d09d6233"
      },
      "execution_count": null,
      "outputs": [
        {
          "output_type": "execute_result",
          "data": {
            "text/plain": [
              "{'description': 'Diethylstilbestrol (DES) is a synthetic nonsteroidal estrogen that belongs to the stilbestrol group of compounds. It is derived from stilbene, a hydrocarbon that consists of a trans double bond between two phenyl groups. DES has a molecular formula of C18H20O2.Physically, DES appears as a white or off-white crystalline powder with a melting point around 169-171°C. It has a molecular weight of approximately 268.35 g/mol. Additionally, DES has a moderate to low density, usually around 1.142 g/cm^3.DES is sparingly soluble in water but dissolves well in organic solvents such as ethanol, acetone, and ethyl ether. Its solubility in water can be improved with the addition of certain surfactants or organic solvents. This limited solubility in water is due to its hydrophobic nature, as it primarily interacts with nonpolar solvents.Reactivity-wise, DES is known for its estrogenic activity. As an estrogen analog, it can bind to estrogen receptors in the body, accompanying similar biological effects to those of natural estrogens. This property has led to its use in medical applications as a hormone replacement therapy as well as a pharmaceutical during the mid-20th century.As a synthetic compound, DES is not found in nature. However, it can be related to natural estrogens like estradiol, as it shares similar structural features and exhibits comparable estrogenic effects.It is important to note that DES has been disapproved for human use in many countries due to its association with adverse effects. Prolonged exposure to DES has been linked to an increased risk of cancer, specifically clear cell adenocarcinoma, in women who were exposed to the drug during pregnancy. It has also been associated with other health issues, including reproductive abnormalities, infertility, and cardiovascular disorders.In conclusion, Diethylstilbestrol is a synthetic nonsteroidal estrogen compound with estrogenic activity. It is a white crystalline powder with limited water solubility. DES is related to natural estrogens and is known for its health risks when used in inappropriate or prolonged manners.',\n",
              " 'Molecular Weight': 268.35,\n",
              " 'Appearance': '',\n",
              " 'Solubility': ' DES is sparingly soluble in water but dissolves well in organic solvents such as ethanol, acetone, and ethyl ether. Its solubility in water can be improved with the addition of certain surfactants or organic solvents. This limited solubility in water is due to its hydrophobic nature, as it primarily interacts with nonpolar solvents. It is a white crystalline powder with limited water solubility',\n",
              " 'Density': 'Additionally, DES has a moderate to low density, usually around 1.142 g/cm^3',\n",
              " 'Reactivity': '',\n",
              " 'Stability': '',\n",
              " 'Toxicity': '',\n",
              " 'Boiling Point': '',\n",
              " 'Melting Point': ' Physically, DES appears as a white or off-white crystalline powder with a melting point around 169-171°C'}"
            ]
          },
          "metadata": {},
          "execution_count": 19
        }
      ]
    },
    {
      "cell_type": "code",
      "source": [
        "compare(new['gpt_base_results'][31], new['wiki_summarized'][31])"
      ],
      "metadata": {
        "id": "uqAStT4rSyuH"
      },
      "execution_count": null,
      "outputs": []
    },
    {
      "cell_type": "code",
      "source": [
        "for i in range(len(old)):\n",
        "  if len(old['wiki_summarized'][i].split('. ')) < 2:\n",
        "    old = old.drop(i)"
      ],
      "metadata": {
        "id": "UawOWEi0ToPY"
      },
      "execution_count": null,
      "outputs": []
    },
    {
      "cell_type": "code",
      "source": [
        "old = old.reset_index(drop=True)\n",
        "new = new.reset_index(drop=True)"
      ],
      "metadata": {
        "id": "rKVfrxd8T9Nz"
      },
      "execution_count": null,
      "outputs": []
    },
    {
      "cell_type": "code",
      "source": [
        "new['score'] = [0 for i in range(len(new))]\n",
        "new['score_gpt_base'] = [0 for i in range(len(new))]\n",
        "\n",
        "old['score'] = [0 for i in range(len(old))]\n",
        "old['score_gpt_base'] = [0 for i in range(len(old))]"
      ],
      "metadata": {
        "id": "Wn0cfG6TVJsB"
      },
      "execution_count": null,
      "outputs": []
    },
    {
      "cell_type": "code",
      "source": [
        "df = df.reset_index(drop=True)"
      ],
      "metadata": {
        "id": "XNhIpuRVhMBo"
      },
      "execution_count": null,
      "outputs": []
    },
    {
      "cell_type": "code",
      "source": [
        "df = df.reset_index(drop=True)"
      ],
      "metadata": {
        "id": "LD0CSo543Vgm"
      },
      "execution_count": null,
      "outputs": []
    },
    {
      "cell_type": "code",
      "source": [
        "x = [compare(df.iloc[i]['wiki_summarized'], df.iloc[i]['results']) for i in range(len(df)) if len(df.iloc[i]['wiki_summarized'].split('. ')) > 1]\n",
        "y = [compare(df.iloc[i]['wiki_summarized'], df.iloc[i]['gpt_base_results']) for i in range(len(df)) if len(df.iloc[i]['wiki_summarized'].split('. ')) > 1]"
      ],
      "metadata": {
        "id": "8X9PrfFtkBUh"
      },
      "execution_count": null,
      "outputs": []
    },
    {
      "cell_type": "code",
      "source": [
        "import matplotlib.pyplot as plt\n",
        "import seaborn as sns\n",
        "%matplotlib inline"
      ],
      "metadata": {
        "id": "ik-XA2qoOtuC"
      },
      "execution_count": null,
      "outputs": []
    },
    {
      "cell_type": "code",
      "source": [
        "import scipy.ndimage"
      ],
      "metadata": {
        "id": "9YU3VDVlPpZS"
      },
      "execution_count": null,
      "outputs": []
    },
    {
      "cell_type": "code",
      "source": [
        "import numpy as np\n",
        "np.mean(new['score']), np.mean(old['score'])"
      ],
      "metadata": {
        "colab": {
          "base_uri": "https://localhost:8080/"
        },
        "id": "qR5_Ttv8R0ms",
        "outputId": "8cbed327-cdc1-4764-c084-614cdd351ba4"
      },
      "execution_count": null,
      "outputs": [
        {
          "output_type": "execute_result",
          "data": {
            "text/plain": [
              "(0.6467274757772928, 0.5292769989765084)"
            ]
          },
          "metadata": {},
          "execution_count": 26
        }
      ]
    },
    {
      "cell_type": "code",
      "source": [
        "new['score'], old['score']"
      ],
      "metadata": {
        "id": "4J31aB4vWAB7"
      },
      "execution_count": null,
      "outputs": []
    },
    {
      "cell_type": "code",
      "source": [
        "old['wiki_summarized'][1]"
      ],
      "metadata": {
        "id": "P79BLFNUWGH8"
      },
      "execution_count": null,
      "outputs": []
    },
    {
      "cell_type": "code",
      "source": [
        "!pip install matplotx"
      ],
      "metadata": {
        "colab": {
          "base_uri": "https://localhost:8080/"
        },
        "id": "HIKk6s0ZWWr3",
        "outputId": "960f8ae2-8654-4573-b7cc-67aca680ee47"
      },
      "execution_count": null,
      "outputs": [
        {
          "output_type": "stream",
          "name": "stdout",
          "text": [
            "Collecting matplotx\n",
            "  Downloading matplotx-0.3.10-py3-none-any.whl (25 kB)\n",
            "Requirement already satisfied: matplotlib in /usr/local/lib/python3.10/dist-packages (from matplotx) (3.7.1)\n",
            "Requirement already satisfied: numpy>=1.20.0 in /usr/local/lib/python3.10/dist-packages (from matplotx) (1.23.5)\n",
            "Requirement already satisfied: contourpy>=1.0.1 in /usr/local/lib/python3.10/dist-packages (from matplotlib->matplotx) (1.1.0)\n",
            "Requirement already satisfied: cycler>=0.10 in /usr/local/lib/python3.10/dist-packages (from matplotlib->matplotx) (0.11.0)\n",
            "Requirement already satisfied: fonttools>=4.22.0 in /usr/local/lib/python3.10/dist-packages (from matplotlib->matplotx) (4.42.0)\n",
            "Requirement already satisfied: kiwisolver>=1.0.1 in /usr/local/lib/python3.10/dist-packages (from matplotlib->matplotx) (1.4.4)\n",
            "Requirement already satisfied: packaging>=20.0 in /usr/local/lib/python3.10/dist-packages (from matplotlib->matplotx) (23.1)\n",
            "Requirement already satisfied: pillow>=6.2.0 in /usr/local/lib/python3.10/dist-packages (from matplotlib->matplotx) (9.4.0)\n",
            "Requirement already satisfied: pyparsing>=2.3.1 in /usr/local/lib/python3.10/dist-packages (from matplotlib->matplotx) (3.1.1)\n",
            "Requirement already satisfied: python-dateutil>=2.7 in /usr/local/lib/python3.10/dist-packages (from matplotlib->matplotx) (2.8.2)\n",
            "Requirement already satisfied: six>=1.5 in /usr/local/lib/python3.10/dist-packages (from python-dateutil>=2.7->matplotlib->matplotx) (1.16.0)\n",
            "Installing collected packages: matplotx\n",
            "Successfully installed matplotx-0.3.10\n"
          ]
        }
      ]
    },
    {
      "cell_type": "code",
      "source": [
        "import matplotx\n",
        "import scipy.ndimage\n",
        "import matplotlib.pyplot as plt\n",
        "import numpy as np\n",
        "labels = [\"Embedding context score\", \"GPT Base Score\"]\n",
        "\n",
        "\n",
        "y = (scipy.ndimage.gaussian_filter(df['score'], sigma=0), scipy.ndimage.gaussian_filter(df['score_gpt_base'], sigma=0))\n",
        "x0 = np.linspace(0, 1991, 1991)\n",
        "\n",
        "\n",
        "with plt.style.context(matplotx.styles.dufte):\n",
        "    for yy, label in zip(y, labels):\n",
        "        plt.plot(x0, yy, label=label)\n",
        "\n",
        "    plt.plot([np.median(df['score']) for i in range(len(df))], color='blue', linestyle='--', label='Embedding context median')\n",
        "    plt.plot([np.mean(df['score']) for i in range(len(df))], color='blue', linestyle='--', label='Embedding context mean')\n",
        "    plt.plot([np.median(df['score_gpt_base']) for i in range(len(df))], color='orange', linestyle='--', label='GPT Base median')\n",
        "    plt.plot([np.mean(df['score_gpt_base']) for i in range(len(df))], color='orange', linestyle='--', label='GPT Base mean')\n",
        "\n",
        "    plt.xlabel(\"Example #\")\n",
        "    matplotx.ylabel_top(\"Cosine Sim\")  # move ylabel to the top, rotate\n",
        "    matplotx.line_labels()  # line labels to the right\n",
        "    plt.show()"
      ],
      "metadata": {
        "colab": {
          "base_uri": "https://localhost:8080/",
          "height": 479
        },
        "id": "HTn8wHt2PHjs",
        "outputId": "4334c9d0-584e-40ad-9449-ca96dc5017d9"
      },
      "execution_count": null,
      "outputs": [
        {
          "output_type": "display_data",
          "data": {
            "text/plain": [
              "<Figure size 640x480 with 1 Axes>"
            ],
            "image/png": "[encoded data removed]"
          },
          "metadata": {}
        }
      ]
    },
    {
      "cell_type": "code",
      "source": [
        "df.to_pickle('drive/MyDrive/benchmark/df_scores.pkl')"
      ],
      "metadata": {
        "id": "y2oG7yP3UYKe"
      },
      "execution_count": null,
      "outputs": []
    }
  ]
}